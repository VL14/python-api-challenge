{
 "cells": [
  {
   "cell_type": "markdown",
   "metadata": {},
   "source": [
    "# VacationPy\n",
    "----\n",
    "\n",
    "#### Note\n",
    "* Instructions have been included for each segment. You do not have to follow them exactly, but they are included to help you think through the steps."
   ]
  },
  {
   "cell_type": "code",
   "execution_count": 45,
   "metadata": {},
   "outputs": [],
   "source": [
    "# Dependencies and Setup\n",
    "import matplotlib.pyplot as plt\n",
    "import pandas as pd\n",
    "import numpy as np\n",
    "import requests\n",
    "import gmaps\n",
    "import os\n",
    "from pprint import pprint\n",
    "\n",
    "# Import API key\n",
    "from api_keys import g_key"
   ]
  },
  {
   "cell_type": "markdown",
   "metadata": {},
   "source": [
    "### Store Part I results into DataFrame\n",
    "* Load the csv exported in Part I to a DataFrame"
   ]
  },
  {
   "cell_type": "code",
   "execution_count": 16,
   "metadata": {},
   "outputs": [
    {
     "output_type": "execute_result",
     "data": {
      "text/plain": "                              city country    lat     lon  temp_max  humidity  \\\n556                            Moa      CU  20.66  -74.94     63.45      93.0   \n150                          Muros      ES  42.78   -9.06     54.00      93.0   \n58                            Lima      PE -12.04  -77.03     77.00      65.0   \n525                            NaN     NaN    NaN     NaN       NaN       NaN   \n487  Arrondissement de Saint-Denis      FR  48.92    2.33     39.99      59.0   \n497                  Puerto Suárez      BO -18.95  -57.80     74.61      95.0   \n136                           Naze      JP  28.37  129.48     73.40      73.0   \n151                   Dunmore East      IE  52.15   -6.99     35.01      82.0   \n71                          Albany      US  42.60  -73.97     33.80      34.0   \n111                     Santa Inês      BR  -3.67  -45.38     72.99      85.0   \n326                            NaN     NaN    NaN     NaN       NaN       NaN   \n436                     Boa Viagem      BR  -5.13  -39.73     73.35      90.0   \n62                      Rio Grande      BR -32.03  -52.10     69.01      86.0   \n132                            NaN     NaN    NaN     NaN       NaN       NaN   \n415                        Huarmey      PE -10.07  -78.15     72.99      60.0   \n\n     cloudiness  wind speed          date  \n556         8.0        3.67  1.584931e+09  \n150        20.0        4.70  1.584931e+09  \n58        100.0       12.75  1.584931e+09  \n525         NaN         NaN           NaN  \n487         0.0        6.93  1.584931e+09  \n497         2.0        2.53  1.584931e+09  \n136        75.0       14.99  1.584931e+09  \n151        12.0       15.01  1.584931e+09  \n71         75.0        3.36  1.584931e+09  \n111       100.0        0.31  1.584931e+09  \n326         NaN         NaN           NaN  \n436       100.0        3.80  1.584931e+09  \n62          0.0       10.42  1.584931e+09  \n132         NaN         NaN           NaN  \n415        83.0        0.81  1.584931e+09  ",
      "text/html": "<div>\n<style scoped>\n    .dataframe tbody tr th:only-of-type {\n        vertical-align: middle;\n    }\n\n    .dataframe tbody tr th {\n        vertical-align: top;\n    }\n\n    .dataframe thead th {\n        text-align: right;\n    }\n</style>\n<table border=\"1\" class=\"dataframe\">\n  <thead>\n    <tr style=\"text-align: right;\">\n      <th></th>\n      <th>city</th>\n      <th>country</th>\n      <th>lat</th>\n      <th>lon</th>\n      <th>temp_max</th>\n      <th>humidity</th>\n      <th>cloudiness</th>\n      <th>wind speed</th>\n      <th>date</th>\n    </tr>\n  </thead>\n  <tbody>\n    <tr>\n      <th>556</th>\n      <td>Moa</td>\n      <td>CU</td>\n      <td>20.66</td>\n      <td>-74.94</td>\n      <td>63.45</td>\n      <td>93.0</td>\n      <td>8.0</td>\n      <td>3.67</td>\n      <td>1.584931e+09</td>\n    </tr>\n    <tr>\n      <th>150</th>\n      <td>Muros</td>\n      <td>ES</td>\n      <td>42.78</td>\n      <td>-9.06</td>\n      <td>54.00</td>\n      <td>93.0</td>\n      <td>20.0</td>\n      <td>4.70</td>\n      <td>1.584931e+09</td>\n    </tr>\n    <tr>\n      <th>58</th>\n      <td>Lima</td>\n      <td>PE</td>\n      <td>-12.04</td>\n      <td>-77.03</td>\n      <td>77.00</td>\n      <td>65.0</td>\n      <td>100.0</td>\n      <td>12.75</td>\n      <td>1.584931e+09</td>\n    </tr>\n    <tr>\n      <th>525</th>\n      <td>NaN</td>\n      <td>NaN</td>\n      <td>NaN</td>\n      <td>NaN</td>\n      <td>NaN</td>\n      <td>NaN</td>\n      <td>NaN</td>\n      <td>NaN</td>\n      <td>NaN</td>\n    </tr>\n    <tr>\n      <th>487</th>\n      <td>Arrondissement de Saint-Denis</td>\n      <td>FR</td>\n      <td>48.92</td>\n      <td>2.33</td>\n      <td>39.99</td>\n      <td>59.0</td>\n      <td>0.0</td>\n      <td>6.93</td>\n      <td>1.584931e+09</td>\n    </tr>\n    <tr>\n      <th>497</th>\n      <td>Puerto Suárez</td>\n      <td>BO</td>\n      <td>-18.95</td>\n      <td>-57.80</td>\n      <td>74.61</td>\n      <td>95.0</td>\n      <td>2.0</td>\n      <td>2.53</td>\n      <td>1.584931e+09</td>\n    </tr>\n    <tr>\n      <th>136</th>\n      <td>Naze</td>\n      <td>JP</td>\n      <td>28.37</td>\n      <td>129.48</td>\n      <td>73.40</td>\n      <td>73.0</td>\n      <td>75.0</td>\n      <td>14.99</td>\n      <td>1.584931e+09</td>\n    </tr>\n    <tr>\n      <th>151</th>\n      <td>Dunmore East</td>\n      <td>IE</td>\n      <td>52.15</td>\n      <td>-6.99</td>\n      <td>35.01</td>\n      <td>82.0</td>\n      <td>12.0</td>\n      <td>15.01</td>\n      <td>1.584931e+09</td>\n    </tr>\n    <tr>\n      <th>71</th>\n      <td>Albany</td>\n      <td>US</td>\n      <td>42.60</td>\n      <td>-73.97</td>\n      <td>33.80</td>\n      <td>34.0</td>\n      <td>75.0</td>\n      <td>3.36</td>\n      <td>1.584931e+09</td>\n    </tr>\n    <tr>\n      <th>111</th>\n      <td>Santa Inês</td>\n      <td>BR</td>\n      <td>-3.67</td>\n      <td>-45.38</td>\n      <td>72.99</td>\n      <td>85.0</td>\n      <td>100.0</td>\n      <td>0.31</td>\n      <td>1.584931e+09</td>\n    </tr>\n    <tr>\n      <th>326</th>\n      <td>NaN</td>\n      <td>NaN</td>\n      <td>NaN</td>\n      <td>NaN</td>\n      <td>NaN</td>\n      <td>NaN</td>\n      <td>NaN</td>\n      <td>NaN</td>\n      <td>NaN</td>\n    </tr>\n    <tr>\n      <th>436</th>\n      <td>Boa Viagem</td>\n      <td>BR</td>\n      <td>-5.13</td>\n      <td>-39.73</td>\n      <td>73.35</td>\n      <td>90.0</td>\n      <td>100.0</td>\n      <td>3.80</td>\n      <td>1.584931e+09</td>\n    </tr>\n    <tr>\n      <th>62</th>\n      <td>Rio Grande</td>\n      <td>BR</td>\n      <td>-32.03</td>\n      <td>-52.10</td>\n      <td>69.01</td>\n      <td>86.0</td>\n      <td>0.0</td>\n      <td>10.42</td>\n      <td>1.584931e+09</td>\n    </tr>\n    <tr>\n      <th>132</th>\n      <td>NaN</td>\n      <td>NaN</td>\n      <td>NaN</td>\n      <td>NaN</td>\n      <td>NaN</td>\n      <td>NaN</td>\n      <td>NaN</td>\n      <td>NaN</td>\n      <td>NaN</td>\n    </tr>\n    <tr>\n      <th>415</th>\n      <td>Huarmey</td>\n      <td>PE</td>\n      <td>-10.07</td>\n      <td>-78.15</td>\n      <td>72.99</td>\n      <td>60.0</td>\n      <td>83.0</td>\n      <td>0.81</td>\n      <td>1.584931e+09</td>\n    </tr>\n  </tbody>\n</table>\n</div>"
     },
     "metadata": {},
     "execution_count": 16
    }
   ],
   "source": [
    "#Create df from Part 1 csv\n",
    "weather_df = pd.read_csv(\"../WeatherPy/Weather_Pycode_Data.csv\")\n",
    "\n",
    "#Rename columns\n",
    "weather_df = weather_df.rename(columns={\"0\":\"city\",\"all\":\"cloudiness\",\"speed\":\"wind speed\", \"0.1\":\"date\"})\n",
    "weather_df.sample(15)"
   ]
  },
  {
   "cell_type": "code",
   "execution_count": 18,
   "metadata": {},
   "outputs": [
    {
     "output_type": "execute_result",
     "data": {
      "text/plain": "             city country    lat     lon  temp_max  humidity  cloudiness  \\\n337      Imbituba      BR -28.24  -48.67     73.40      69.0        75.0   \n305        Torbay      CA  47.67  -52.73     21.99      85.0        90.0   \n352     Wattegama      LK   6.80   81.48     78.80     100.0         5.0   \n512     Vityazevo      RU  44.99   37.27     46.00      93.0        75.0   \n209    Kishanganj      IN  26.12   87.93     77.67      51.0        73.0   \n481           NaN     NaN    NaN     NaN       NaN       NaN         NaN   \n588      Hamilton      US  39.18  -84.53     45.00      80.0        90.0   \n374           NaN     NaN    NaN     NaN       NaN       NaN         NaN   \n301  Point Fortin      TT  10.18  -61.68     77.00      88.0        40.0   \n406       Agüimes      ES  27.91  -15.45     63.00      63.0        20.0   \n405           NaN     NaN    NaN     NaN       NaN       NaN         NaN   \n191     Bonavista      CA  48.65  -53.11     19.99      78.0       100.0   \n470      Saldanha      ZA -33.01   17.94     59.00      82.0        67.0   \n517    Oranjemund     NaN -28.55   16.43     57.51      94.0        18.0   \n308      Bagdarin      RU  54.43  113.60     29.07      72.0       100.0   \n\n     wind speed          date  \n337        8.05  1.584931e+09  \n305       12.75  1.584931e+09  \n352        6.93  1.584931e+09  \n512        4.47  1.584931e+09  \n209        3.36  1.584931e+09  \n481         NaN           NaN  \n588        5.97  1.584931e+09  \n374         NaN           NaN  \n301        5.82  1.584931e+09  \n406       11.41  1.584931e+09  \n405         NaN           NaN  \n191       13.00  1.584931e+09  \n470        5.82  1.584931e+09  \n517        6.98  1.584931e+09  \n308        3.13  1.584931e+09  ",
      "text/html": "<div>\n<style scoped>\n    .dataframe tbody tr th:only-of-type {\n        vertical-align: middle;\n    }\n\n    .dataframe tbody tr th {\n        vertical-align: top;\n    }\n\n    .dataframe thead th {\n        text-align: right;\n    }\n</style>\n<table border=\"1\" class=\"dataframe\">\n  <thead>\n    <tr style=\"text-align: right;\">\n      <th></th>\n      <th>city</th>\n      <th>country</th>\n      <th>lat</th>\n      <th>lon</th>\n      <th>temp_max</th>\n      <th>humidity</th>\n      <th>cloudiness</th>\n      <th>wind speed</th>\n      <th>date</th>\n    </tr>\n  </thead>\n  <tbody>\n    <tr>\n      <th>337</th>\n      <td>Imbituba</td>\n      <td>BR</td>\n      <td>-28.24</td>\n      <td>-48.67</td>\n      <td>73.40</td>\n      <td>69.0</td>\n      <td>75.0</td>\n      <td>8.05</td>\n      <td>1.584931e+09</td>\n    </tr>\n    <tr>\n      <th>305</th>\n      <td>Torbay</td>\n      <td>CA</td>\n      <td>47.67</td>\n      <td>-52.73</td>\n      <td>21.99</td>\n      <td>85.0</td>\n      <td>90.0</td>\n      <td>12.75</td>\n      <td>1.584931e+09</td>\n    </tr>\n    <tr>\n      <th>352</th>\n      <td>Wattegama</td>\n      <td>LK</td>\n      <td>6.80</td>\n      <td>81.48</td>\n      <td>78.80</td>\n      <td>100.0</td>\n      <td>5.0</td>\n      <td>6.93</td>\n      <td>1.584931e+09</td>\n    </tr>\n    <tr>\n      <th>512</th>\n      <td>Vityazevo</td>\n      <td>RU</td>\n      <td>44.99</td>\n      <td>37.27</td>\n      <td>46.00</td>\n      <td>93.0</td>\n      <td>75.0</td>\n      <td>4.47</td>\n      <td>1.584931e+09</td>\n    </tr>\n    <tr>\n      <th>209</th>\n      <td>Kishanganj</td>\n      <td>IN</td>\n      <td>26.12</td>\n      <td>87.93</td>\n      <td>77.67</td>\n      <td>51.0</td>\n      <td>73.0</td>\n      <td>3.36</td>\n      <td>1.584931e+09</td>\n    </tr>\n    <tr>\n      <th>481</th>\n      <td>NaN</td>\n      <td>NaN</td>\n      <td>NaN</td>\n      <td>NaN</td>\n      <td>NaN</td>\n      <td>NaN</td>\n      <td>NaN</td>\n      <td>NaN</td>\n      <td>NaN</td>\n    </tr>\n    <tr>\n      <th>588</th>\n      <td>Hamilton</td>\n      <td>US</td>\n      <td>39.18</td>\n      <td>-84.53</td>\n      <td>45.00</td>\n      <td>80.0</td>\n      <td>90.0</td>\n      <td>5.97</td>\n      <td>1.584931e+09</td>\n    </tr>\n    <tr>\n      <th>374</th>\n      <td>NaN</td>\n      <td>NaN</td>\n      <td>NaN</td>\n      <td>NaN</td>\n      <td>NaN</td>\n      <td>NaN</td>\n      <td>NaN</td>\n      <td>NaN</td>\n      <td>NaN</td>\n    </tr>\n    <tr>\n      <th>301</th>\n      <td>Point Fortin</td>\n      <td>TT</td>\n      <td>10.18</td>\n      <td>-61.68</td>\n      <td>77.00</td>\n      <td>88.0</td>\n      <td>40.0</td>\n      <td>5.82</td>\n      <td>1.584931e+09</td>\n    </tr>\n    <tr>\n      <th>406</th>\n      <td>Agüimes</td>\n      <td>ES</td>\n      <td>27.91</td>\n      <td>-15.45</td>\n      <td>63.00</td>\n      <td>63.0</td>\n      <td>20.0</td>\n      <td>11.41</td>\n      <td>1.584931e+09</td>\n    </tr>\n    <tr>\n      <th>405</th>\n      <td>NaN</td>\n      <td>NaN</td>\n      <td>NaN</td>\n      <td>NaN</td>\n      <td>NaN</td>\n      <td>NaN</td>\n      <td>NaN</td>\n      <td>NaN</td>\n      <td>NaN</td>\n    </tr>\n    <tr>\n      <th>191</th>\n      <td>Bonavista</td>\n      <td>CA</td>\n      <td>48.65</td>\n      <td>-53.11</td>\n      <td>19.99</td>\n      <td>78.0</td>\n      <td>100.0</td>\n      <td>13.00</td>\n      <td>1.584931e+09</td>\n    </tr>\n    <tr>\n      <th>470</th>\n      <td>Saldanha</td>\n      <td>ZA</td>\n      <td>-33.01</td>\n      <td>17.94</td>\n      <td>59.00</td>\n      <td>82.0</td>\n      <td>67.0</td>\n      <td>5.82</td>\n      <td>1.584931e+09</td>\n    </tr>\n    <tr>\n      <th>517</th>\n      <td>Oranjemund</td>\n      <td>NaN</td>\n      <td>-28.55</td>\n      <td>16.43</td>\n      <td>57.51</td>\n      <td>94.0</td>\n      <td>18.0</td>\n      <td>6.98</td>\n      <td>1.584931e+09</td>\n    </tr>\n    <tr>\n      <th>308</th>\n      <td>Bagdarin</td>\n      <td>RU</td>\n      <td>54.43</td>\n      <td>113.60</td>\n      <td>29.07</td>\n      <td>72.0</td>\n      <td>100.0</td>\n      <td>3.13</td>\n      <td>1.584931e+09</td>\n    </tr>\n  </tbody>\n</table>\n</div>"
     },
     "metadata": {},
     "execution_count": 18
    }
   ],
   "source": [
    "#Drop Na values\n",
    "df = weather_df.dropna(how='any')\n",
    "weather_df.sample(15)"
   ]
  },
  {
   "cell_type": "code",
   "execution_count": 4,
   "metadata": {},
   "outputs": [
    {
     "output_type": "execute_result",
     "data": {
      "text/plain": "[(20.15, 92.9),\n (22.08, -159.32),\n (-53.15, -70.92),\n (7.69, 126.55),\n (60.4, -1.35),\n (69.01, 23.04),\n (10.57, 72.64),\n (43.8, 87.6),\n (27.98, -114.06),\n (3.07, 172.79)]"
     },
     "metadata": {},
     "execution_count": 4
    }
   ],
   "source": [
    "#Create lists of city coordinates to map\n",
    "lats =  df['lat'].tolist()\n",
    "lngs = df['lon'].tolist()\n",
    "coords = list(zip(lats, lngs))\n",
    "coords[0:10]"
   ]
  },
  {
   "cell_type": "markdown",
   "metadata": {},
   "source": [
    "### Humidity Heatmap\n",
    "* Configure gmaps.\n",
    "* Use the Lat and Lng as locations and Humidity as the weight.\n",
    "* Add Heatmap layer to map."
   ]
  },
  {
   "cell_type": "code",
   "execution_count": 5,
   "metadata": {},
   "outputs": [
    {
     "output_type": "execute_result",
     "data": {
      "text/plain": "[52.0, 88.0, 93.0, 79.0, 81.0, 78.0, 69.0, 57.0, 73.0, 77.0]"
     },
     "metadata": {},
     "execution_count": 5
    }
   ],
   "source": [
    "# Save Humidity values as list\n",
    "humidity = df['humidity'].tolist()\n",
    "humidity[0:10]"
   ]
  },
  {
   "cell_type": "code",
   "execution_count": 6,
   "metadata": {},
   "outputs": [
    {
     "output_type": "display_data",
     "data": {
      "text/plain": "Figure(layout=FigureLayout(height='420px'))",
      "application/vnd.jupyter.widget-view+json": {
       "version_major": 2,
       "version_minor": 0,
       "model_id": "994f2b88f3b8424b82d99b9f1d36617f"
      }
     },
     "metadata": {}
    }
   ],
   "source": [
    "# Configure maps\n",
    "gmaps.configure(api_key = g_key)\n",
    "\n",
    "# Plot Heatmap\n",
    "fig = gmaps.figure()\n",
    "\n",
    "# Create heat layer\n",
    "heat_layer = gmaps.heatmap_layer(coords, weights=humidity, \n",
    "                                 dissipating=False, max_intensity=60,\n",
    "                                 point_radius=2)\n",
    "\n",
    "# Add layer\n",
    "fig.add_layer(heat_layer)\n",
    "\n",
    "# Display figure\n",
    "fig"
   ]
  },
  {
   "cell_type": "markdown",
   "metadata": {},
   "source": [
    "### Create new DataFrame fitting weather criteria\n",
    "* Narrow down the cities to fit weather conditions.\n",
    "* Drop any rows will null values."
   ]
  },
  {
   "cell_type": "code",
   "execution_count": 25,
   "metadata": {},
   "outputs": [
    {
     "output_type": "execute_result",
     "data": {
      "text/plain": "          city country    lat     lon  temp_max  humidity  cloudiness  \\\n33   Busselton      AU -33.65  115.33     80.01      39.0        13.0   \n96        Agra      IN  27.18   78.02     78.39      30.0        33.0   \n129       Tura      IN  25.52   90.22     82.71      37.0         0.0   \n307    Marabba      SD  12.35   32.18     70.65      16.0         0.0   \n369      Pinos      MX  22.30 -101.57     71.60      35.0         5.0   \n\n     wind speed  \n33         3.38  \n96         5.26  \n129        1.79  \n307        8.16  \n369        4.70  ",
      "text/html": "<div>\n<style scoped>\n    .dataframe tbody tr th:only-of-type {\n        vertical-align: middle;\n    }\n\n    .dataframe tbody tr th {\n        vertical-align: top;\n    }\n\n    .dataframe thead th {\n        text-align: right;\n    }\n</style>\n<table border=\"1\" class=\"dataframe\">\n  <thead>\n    <tr style=\"text-align: right;\">\n      <th></th>\n      <th>city</th>\n      <th>country</th>\n      <th>lat</th>\n      <th>lon</th>\n      <th>temp_max</th>\n      <th>humidity</th>\n      <th>cloudiness</th>\n      <th>wind speed</th>\n    </tr>\n  </thead>\n  <tbody>\n    <tr>\n      <th>33</th>\n      <td>Busselton</td>\n      <td>AU</td>\n      <td>-33.65</td>\n      <td>115.33</td>\n      <td>80.01</td>\n      <td>39.0</td>\n      <td>13.0</td>\n      <td>3.38</td>\n    </tr>\n    <tr>\n      <th>96</th>\n      <td>Agra</td>\n      <td>IN</td>\n      <td>27.18</td>\n      <td>78.02</td>\n      <td>78.39</td>\n      <td>30.0</td>\n      <td>33.0</td>\n      <td>5.26</td>\n    </tr>\n    <tr>\n      <th>129</th>\n      <td>Tura</td>\n      <td>IN</td>\n      <td>25.52</td>\n      <td>90.22</td>\n      <td>82.71</td>\n      <td>37.0</td>\n      <td>0.0</td>\n      <td>1.79</td>\n    </tr>\n    <tr>\n      <th>307</th>\n      <td>Marabba</td>\n      <td>SD</td>\n      <td>12.35</td>\n      <td>32.18</td>\n      <td>70.65</td>\n      <td>16.0</td>\n      <td>0.0</td>\n      <td>8.16</td>\n    </tr>\n    <tr>\n      <th>369</th>\n      <td>Pinos</td>\n      <td>MX</td>\n      <td>22.30</td>\n      <td>-101.57</td>\n      <td>71.60</td>\n      <td>35.0</td>\n      <td>5.0</td>\n      <td>4.70</td>\n    </tr>\n  </tbody>\n</table>\n</div>"
     },
     "metadata": {},
     "execution_count": 25
    }
   ],
   "source": [
    "# Narrow list of cities to those with humity less than 40%, max temp between 70 and 85, wind speed less than 15 mph, and cloudiness less than 50%\n",
    "hotel_df = df.loc[(df['humidity']<40) & (df['temp_max']>70) & (df['temp_max']<85) & (df['wind speed']<15)\n",
    "        & (df['cloudiness']<50),:]\n",
    "hotel_df = hotel_df[[\"city\",\"country\",\"lat\",\"lon\",\"temp_max\",\"humidity\",\"cloudiness\",\"wind speed\"]]\n",
    "hotel_df.head()"
   ]
  },
  {
   "cell_type": "markdown",
   "metadata": {},
   "source": [
    "### Hotel Map\n",
    "* Store into variable named `hotel_df`.\n",
    "* Add a \"Hotel Name\" column to the DataFrame.\n",
    "* Set parameters to search for hotels with 5000 meters.\n",
    "* Hit the Google Places API for each city's coordinates.\n",
    "* Store the first Hotel result into the DataFrame.\n",
    "* Plot markers on top of the heatmap."
   ]
  },
  {
   "cell_type": "code",
   "execution_count": 62,
   "metadata": {},
   "outputs": [
    {
     "output_type": "execute_result",
     "data": {
      "text/plain": "         city country    lat     lon  temp_max  humidity  cloudiness  \\\n0   Busselton      AU -33.65  115.33     80.01      39.0        13.0   \n1        Agra      IN  27.18   78.02     78.39      30.0        33.0   \n2        Tura      IN  25.52   90.22     82.71      37.0         0.0   \n3     Marabba      SD  12.35   32.18     70.65      16.0         0.0   \n4       Pinos      MX  22.30 -101.57     71.60      35.0         5.0   \n5  Tacoaleche      MX  22.82 -102.42     73.40      23.0        20.0   \n6       Ndélé      CF   8.41   20.65     79.29      38.0         0.0   \n7     Ouallam      NE  14.32    2.09     81.99      15.0        44.0   \n8      Collie      AU -33.37  116.15     80.01      39.0         2.0   \n9      Bauchi      NG  10.50   10.00     76.05      21.0        11.0   \n\n   wind speed hotel name hotel lat hotel lng  \n0        3.38                                 \n1        5.26                                 \n2        1.79                                 \n3        8.16                                 \n4        4.70                                 \n5       11.41                                 \n6        5.84                                 \n7        9.86                                 \n8        5.97                                 \n9        2.82                                 ",
      "text/html": "<div>\n<style scoped>\n    .dataframe tbody tr th:only-of-type {\n        vertical-align: middle;\n    }\n\n    .dataframe tbody tr th {\n        vertical-align: top;\n    }\n\n    .dataframe thead th {\n        text-align: right;\n    }\n</style>\n<table border=\"1\" class=\"dataframe\">\n  <thead>\n    <tr style=\"text-align: right;\">\n      <th></th>\n      <th>city</th>\n      <th>country</th>\n      <th>lat</th>\n      <th>lon</th>\n      <th>temp_max</th>\n      <th>humidity</th>\n      <th>cloudiness</th>\n      <th>wind speed</th>\n      <th>hotel name</th>\n      <th>hotel lat</th>\n      <th>hotel lng</th>\n    </tr>\n  </thead>\n  <tbody>\n    <tr>\n      <th>0</th>\n      <td>Busselton</td>\n      <td>AU</td>\n      <td>-33.65</td>\n      <td>115.33</td>\n      <td>80.01</td>\n      <td>39.0</td>\n      <td>13.0</td>\n      <td>3.38</td>\n      <td></td>\n      <td></td>\n      <td></td>\n    </tr>\n    <tr>\n      <th>1</th>\n      <td>Agra</td>\n      <td>IN</td>\n      <td>27.18</td>\n      <td>78.02</td>\n      <td>78.39</td>\n      <td>30.0</td>\n      <td>33.0</td>\n      <td>5.26</td>\n      <td></td>\n      <td></td>\n      <td></td>\n    </tr>\n    <tr>\n      <th>2</th>\n      <td>Tura</td>\n      <td>IN</td>\n      <td>25.52</td>\n      <td>90.22</td>\n      <td>82.71</td>\n      <td>37.0</td>\n      <td>0.0</td>\n      <td>1.79</td>\n      <td></td>\n      <td></td>\n      <td></td>\n    </tr>\n    <tr>\n      <th>3</th>\n      <td>Marabba</td>\n      <td>SD</td>\n      <td>12.35</td>\n      <td>32.18</td>\n      <td>70.65</td>\n      <td>16.0</td>\n      <td>0.0</td>\n      <td>8.16</td>\n      <td></td>\n      <td></td>\n      <td></td>\n    </tr>\n    <tr>\n      <th>4</th>\n      <td>Pinos</td>\n      <td>MX</td>\n      <td>22.30</td>\n      <td>-101.57</td>\n      <td>71.60</td>\n      <td>35.0</td>\n      <td>5.0</td>\n      <td>4.70</td>\n      <td></td>\n      <td></td>\n      <td></td>\n    </tr>\n    <tr>\n      <th>5</th>\n      <td>Tacoaleche</td>\n      <td>MX</td>\n      <td>22.82</td>\n      <td>-102.42</td>\n      <td>73.40</td>\n      <td>23.0</td>\n      <td>20.0</td>\n      <td>11.41</td>\n      <td></td>\n      <td></td>\n      <td></td>\n    </tr>\n    <tr>\n      <th>6</th>\n      <td>Ndélé</td>\n      <td>CF</td>\n      <td>8.41</td>\n      <td>20.65</td>\n      <td>79.29</td>\n      <td>38.0</td>\n      <td>0.0</td>\n      <td>5.84</td>\n      <td></td>\n      <td></td>\n      <td></td>\n    </tr>\n    <tr>\n      <th>7</th>\n      <td>Ouallam</td>\n      <td>NE</td>\n      <td>14.32</td>\n      <td>2.09</td>\n      <td>81.99</td>\n      <td>15.0</td>\n      <td>44.0</td>\n      <td>9.86</td>\n      <td></td>\n      <td></td>\n      <td></td>\n    </tr>\n    <tr>\n      <th>8</th>\n      <td>Collie</td>\n      <td>AU</td>\n      <td>-33.37</td>\n      <td>116.15</td>\n      <td>80.01</td>\n      <td>39.0</td>\n      <td>2.0</td>\n      <td>5.97</td>\n      <td></td>\n      <td></td>\n      <td></td>\n    </tr>\n    <tr>\n      <th>9</th>\n      <td>Bauchi</td>\n      <td>NG</td>\n      <td>10.50</td>\n      <td>10.00</td>\n      <td>76.05</td>\n      <td>21.0</td>\n      <td>11.0</td>\n      <td>2.82</td>\n      <td></td>\n      <td></td>\n      <td></td>\n    </tr>\n  </tbody>\n</table>\n</div>"
     },
     "metadata": {},
     "execution_count": 62
    }
   ],
   "source": [
    "# Set up columns for hotel search\n",
    "hotel_df[\"hotel name\"] = \"\"\n",
    "hotel_df[\"hotel lat\"] = \"\"\n",
    "hotel_df[\"hotel lng\"] = \"\"\n",
    "\n",
    "#Reset index\n",
    "hotel_df_reindex = hotel_df.reset_index(drop=True)\n",
    "hotel_df_reindex"
   ]
  },
  {
   "cell_type": "code",
   "execution_count": 65,
   "metadata": {
    "tags": [
     "outputPrepend",
     "outputPrepend",
     "outputPrepend",
     "outputPrepend",
     "outputPrepend",
     "outputPrepend",
     "outputPrepend",
     "outputPrepend",
     "outputPrepend",
     "outputPrepend",
     "outputPrepend",
     "outputPrepend",
     "outputPrepend"
    ]
   },
   "outputs": [
    {
     "output_type": "stream",
     "name": "stdout",
     "text": "Getting hotel info for city 0.\nGetting hotel info for city 1.\nGetting hotel info for city 2.\nGetting hotel info for city 3.\nNO RESULTS FOR CITY 3\nGetting hotel info for city 4.\nGetting hotel info for city 5.\nNO RESULTS FOR CITY 5\nGetting hotel info for city 6.\nNO RESULTS FOR CITY 6\nGetting hotel info for city 7.\nNO RESULTS FOR CITY 7\nGetting hotel info for city 8.\nGetting hotel info for city 9.\nNO RESULTS FOR CITY 9\n"
    }
   ],
   "source": [
    "# Set up Google API call\n",
    "url = (\"https://maps.googleapis.com/maps/api/place/nearbysearch/json?keyword=hotel&radius=5000&type=lodging&key={0}\").format(g_key)\n",
    "\n",
    "# Create loop to get responses for each city\n",
    "hotel_names = []\n",
    "hotel_lats = []\n",
    "hotel_lngs = []\n",
    "\n",
    "for index, row in hotel_df_reindex.iterrows():\n",
    "    lat = row[\"lat\"]\n",
    "    lng = row[\"lon\"]\n",
    "    hotel_coords = f\"{lat},{lng}\"\n",
    "    target_url = f\"{url}&location={hotel_coords}\"\n",
    "        \n",
    "    # Get response\n",
    "    print(f\"Getting hotel info for city {index}.\")\n",
    "    \n",
    "    try:\n",
    "        response = requests.get(target_url).json()\n",
    "        \n",
    "        hotel_name = response[\"results\"][0][\"name\"]\n",
    "        hotel_lat = response[\"results\"][0][\"geometry\"][\"location\"][\"lat\"]\n",
    "        hotel_lng = response[\"results\"][0][\"geometry\"][\"location\"][\"lng\"]\n",
    "        hotel_names.append(hotel_name)\n",
    "        hotel_lats.append(hotel_lat)\n",
    "        hotel_lngs.append(hotel_lng)\n",
    "\n",
    "    except(KeyError, IndexError):\n",
    "        print(f\"NO RESULTS FOR CITY {index}\")"
   ]
  },
  {
   "cell_type": "code",
   "execution_count": 7,
   "metadata": {},
   "outputs": [],
   "source": [
    "\n",
    ""
   ]
  },
  {
   "cell_type": "code",
   "execution_count": 67,
   "metadata": {},
   "outputs": [
    {
     "output_type": "error",
     "ename": "KeyError",
     "evalue": "'Hotel Name'",
     "traceback": [
      "\u001b[1;31m---------------------------------------------------------------------------\u001b[0m",
      "\u001b[1;31mKeyError\u001b[0m                                  Traceback (most recent call last)",
      "\u001b[1;32m<ipython-input-67-7048602b6895>\u001b[0m in \u001b[0;36m<module>\u001b[1;34m\u001b[0m\n\u001b[0;32m     11\u001b[0m \u001b[1;31m# Store the DataFrame Row\u001b[0m\u001b[1;33m\u001b[0m\u001b[1;33m\u001b[0m\u001b[1;33m\u001b[0m\u001b[0m\n\u001b[0;32m     12\u001b[0m \u001b[1;31m# NOTE: be sure to update with your DataFrame name\u001b[0m\u001b[1;33m\u001b[0m\u001b[1;33m\u001b[0m\u001b[1;33m\u001b[0m\u001b[0m\n\u001b[1;32m---> 13\u001b[1;33m \u001b[0mhotel_info\u001b[0m \u001b[1;33m=\u001b[0m \u001b[1;33m[\u001b[0m\u001b[0minfo_box_template\u001b[0m\u001b[1;33m.\u001b[0m\u001b[0mformat\u001b[0m\u001b[1;33m(\u001b[0m\u001b[1;33m**\u001b[0m\u001b[0mrow\u001b[0m\u001b[1;33m)\u001b[0m \u001b[1;32mfor\u001b[0m \u001b[0mindex\u001b[0m\u001b[1;33m,\u001b[0m \u001b[0mrow\u001b[0m \u001b[1;32min\u001b[0m \u001b[0mhotel_df_reindex\u001b[0m\u001b[1;33m.\u001b[0m\u001b[0miterrows\u001b[0m\u001b[1;33m(\u001b[0m\u001b[1;33m)\u001b[0m\u001b[1;33m]\u001b[0m\u001b[1;33m\u001b[0m\u001b[1;33m\u001b[0m\u001b[0m\n\u001b[0m\u001b[0;32m     14\u001b[0m \u001b[0mlocations\u001b[0m \u001b[1;33m=\u001b[0m \u001b[0mhotel_df_reindex\u001b[0m\u001b[1;33m[\u001b[0m\u001b[1;33m[\u001b[0m\u001b[1;34m\"lat\"\u001b[0m\u001b[1;33m,\u001b[0m \u001b[1;34m\"lon\"\u001b[0m\u001b[1;33m]\u001b[0m\u001b[1;33m]\u001b[0m\u001b[1;33m\u001b[0m\u001b[1;33m\u001b[0m\u001b[0m\n\u001b[0;32m     15\u001b[0m \u001b[0mlocations\u001b[0m\u001b[1;33m\u001b[0m\u001b[1;33m\u001b[0m\u001b[0m\n",
      "\u001b[1;32m<ipython-input-67-7048602b6895>\u001b[0m in \u001b[0;36m<listcomp>\u001b[1;34m(.0)\u001b[0m\n\u001b[0;32m     11\u001b[0m \u001b[1;31m# Store the DataFrame Row\u001b[0m\u001b[1;33m\u001b[0m\u001b[1;33m\u001b[0m\u001b[1;33m\u001b[0m\u001b[0m\n\u001b[0;32m     12\u001b[0m \u001b[1;31m# NOTE: be sure to update with your DataFrame name\u001b[0m\u001b[1;33m\u001b[0m\u001b[1;33m\u001b[0m\u001b[1;33m\u001b[0m\u001b[0m\n\u001b[1;32m---> 13\u001b[1;33m \u001b[0mhotel_info\u001b[0m \u001b[1;33m=\u001b[0m \u001b[1;33m[\u001b[0m\u001b[0minfo_box_template\u001b[0m\u001b[1;33m.\u001b[0m\u001b[0mformat\u001b[0m\u001b[1;33m(\u001b[0m\u001b[1;33m**\u001b[0m\u001b[0mrow\u001b[0m\u001b[1;33m)\u001b[0m \u001b[1;32mfor\u001b[0m \u001b[0mindex\u001b[0m\u001b[1;33m,\u001b[0m \u001b[0mrow\u001b[0m \u001b[1;32min\u001b[0m \u001b[0mhotel_df_reindex\u001b[0m\u001b[1;33m.\u001b[0m\u001b[0miterrows\u001b[0m\u001b[1;33m(\u001b[0m\u001b[1;33m)\u001b[0m\u001b[1;33m]\u001b[0m\u001b[1;33m\u001b[0m\u001b[1;33m\u001b[0m\u001b[0m\n\u001b[0m\u001b[0;32m     14\u001b[0m \u001b[0mlocations\u001b[0m \u001b[1;33m=\u001b[0m \u001b[0mhotel_df_reindex\u001b[0m\u001b[1;33m[\u001b[0m\u001b[1;33m[\u001b[0m\u001b[1;34m\"lat\"\u001b[0m\u001b[1;33m,\u001b[0m \u001b[1;34m\"lon\"\u001b[0m\u001b[1;33m]\u001b[0m\u001b[1;33m]\u001b[0m\u001b[1;33m\u001b[0m\u001b[1;33m\u001b[0m\u001b[0m\n\u001b[0;32m     15\u001b[0m \u001b[0mlocations\u001b[0m\u001b[1;33m\u001b[0m\u001b[1;33m\u001b[0m\u001b[0m\n",
      "\u001b[1;31mKeyError\u001b[0m: 'Hotel Name'"
     ]
    }
   ],
   "source": [
    "# NOTE: Do not change any of the code in this cell\n",
    "\n",
    "# Using the template add the hotel marks to the heatmap\n",
    "info_box_template = \"\"\"\n",
    "<dl>\n",
    "<dt>Name</dt><dd>{Hotel Name}</dd>\n",
    "<dt>City</dt><dd>{City}</dd>\n",
    "<dt>Country</dt><dd>{Country}</dd>\n",
    "</dl>\n",
    "\"\"\"\n",
    "# Store the DataFrame Row\n",
    "# NOTE: be sure to update with your DataFrame name\n",
    "hotel_info = [info_box_template.format(**row) for index, row in hotel_df_reindex.iterrows()]\n",
    "locations = hotel_df_reindex[[\"lat\", \"lon\"]]\n",
    "locations"
   ]
  },
  {
   "cell_type": "code",
   "execution_count": 9,
   "metadata": {},
   "outputs": [],
   "source": [
    "# Add marker layer ontop of heat map\n",
    "\n",
    "\n",
    "# Display Map"
   ]
  }
 ],
 "metadata": {
  "kernelspec": {
   "display_name": "Python 3.7.6 64-bit ('PythonData': conda)",
   "language": "python",
   "name": "python37664bitpythondataconda7b76faf93e6a485bb209245349a7d6ad"
  },
  "language_info": {
   "codemirror_mode": {
    "name": "ipython",
    "version": 3
   },
   "file_extension": ".py",
   "mimetype": "text/x-python",
   "name": "python",
   "nbconvert_exporter": "python",
   "pygments_lexer": "ipython3",
   "version": "3.6.10-final"
  },
  "latex_envs": {
   "LaTeX_envs_menu_present": true,
   "autoclose": false,
   "autocomplete": true,
   "bibliofile": "biblio.bib",
   "cite_by": "apalike",
   "current_citInitial": 1,
   "eqLabelWithNumbers": true,
   "eqNumInitial": 1,
   "hotkeys": {
    "equation": "Ctrl-E",
    "itemize": "Ctrl-I"
   },
   "labels_anchors": false,
   "latex_user_defs": false,
   "report_style_numbering": false,
   "user_envs_cfg": false
  }
 },
 "nbformat": 4,
 "nbformat_minor": 2
}